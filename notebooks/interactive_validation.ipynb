{
 "cells": [
  {
   "cell_type": "markdown",
   "id": "3b353b34",
   "metadata": {},
   "source": [
    "# Interactive Validation Framework\n",
    "\n",
    "This notebook provides an interactive interface to the validation framework used in our paper, \"Computational Analysis of High-Temperature Superconducting Coils for High-Beta Plasma Confinement\". You can use this to verify our results or test your own calculations against our benchmarks.\n",
    "\n",
    "## How to Use\n",
    "\n",
    "1. **Run the setup cell:** This will import the necessary validation framework.\n",
    "2. **Use the validation functions:** Call the validation functions with your own data to see if they meet the paper's benchmarks.\n",
    "3. **Explore the framework:** The `validation_framework.py` script contains all the benchmark data and validation logic. You can inspect it to understand the basis for our validation."
   ]
  },
  {
   "cell_type": "code",
   "execution_count": null,
   "id": "f689570e",
   "metadata": {},
   "outputs": [],
   "source": [
    "import sys\n",
    "sys.path.append('/home/echo_/Code/asciimath/hts-coils/src')\n",
    "from hts.validation_framework import ValidationFramework, create_rebco_validation_example"
   ]
  },
  {
   "cell_type": "markdown",
   "id": "ffabbf16",
   "metadata": {},
   "source": [
    "## Example: Comprehensive Validation\n",
    "\n",
    "The following cell runs a comprehensive validation of all key parameters from the REBCO paper. This is the same set of tests we use to ensure our main results are reproducible."
   ]
  },
  {
   "cell_type": "code",
   "execution_count": null,
   "id": "9cf1daf0",
   "metadata": {},
   "outputs": [],
   "source": [
    "validator = ValidationFramework()\n",
    "example_data = create_rebco_validation_example()\n",
    "validator.comprehensive_rebco_validation(\n",
    "    example_data['baseline_config'],\n",
    "    example_data['high_field_config'],\n",
    "    example_data['thermal_results'],\n",
    "    example_data['stress_results']\n",
    ")"
   ]
  }
 ],
 "metadata": {
  "language_info": {
   "name": "python"
  }
 },
 "nbformat": 4,
 "nbformat_minor": 5
}
